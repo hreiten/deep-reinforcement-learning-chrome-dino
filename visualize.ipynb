{
 "cells": [
  {
   "cell_type": "code",
   "execution_count": null,
   "metadata": {},
   "outputs": [],
   "source": [
    "import numpy as np\n",
    "import pandas as pd\n",
    "from matplotlib import pyplot as plt\n",
    "import seaborn as sns\n",
    "\n",
    "from helpers import load_pkl\n",
    "\n",
    "plt.rcParams['figure.dpi'] = 200\n",
    "sns.set(context='paper', style='whitegrid')"
   ]
  },
  {
   "cell_type": "code",
   "execution_count": null,
   "metadata": {},
   "outputs": [],
   "source": [
    "MODEL_NAME='2x256'\n",
    "stats = pd.read_csv(f'./stats/{MODEL_NAME}-ep_stats.csv')\n",
    "scores = np.load(f'./stats/{MODEL_NAME}-ep_scores.npy')\n",
    "rewards = np.load(f'./stats/{MODEL_NAME}-ep_rewards.npy')"
   ]
  },
  {
   "cell_type": "code",
   "execution_count": null,
   "metadata": {},
   "outputs": [],
   "source": [
    "def plot(x, x_label=\"\", y_label=\"\", title=\"\"):\n",
    "    fig, ax = plt.subplots()\n",
    "    ax.set_xlabel(x_label)\n",
    "    ax.set_ylabel(y_label)\n",
    "    ax.set_title(title)\n",
    "    ax.plot(scores)\n",
    "    fig.show()"
   ]
  },
  {
   "cell_type": "code",
   "execution_count": null,
   "metadata": {},
   "outputs": [],
   "source": [
    "plot(scores)"
   ]
  },
  {
   "cell_type": "code",
   "execution_count": null,
   "metadata": {},
   "outputs": [],
   "source": [
    "df.epsilon.plot()"
   ]
  }
 ],
 "metadata": {
  "kernelspec": {
   "display_name": "Python 3.7.7 64-bit ('dino-ai-2': venv)",
   "language": "python",
   "name": "python37764bitdinoai2venv37de2b15978b4691aaaca1e19616e3de"
  },
  "language_info": {
   "codemirror_mode": {
    "name": "ipython",
    "version": 3
   },
   "file_extension": ".py",
   "mimetype": "text/x-python",
   "name": "python",
   "nbconvert_exporter": "python",
   "pygments_lexer": "ipython3",
   "version": "3.7.7"
  }
 },
 "nbformat": 4,
 "nbformat_minor": 4
}
